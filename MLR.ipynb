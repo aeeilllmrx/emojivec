{
 "metadata": {
  "name": "",
  "signature": "sha256:cef7155cf5b90ef7d8036fd40d66828a62f0afe45b085fcaa2e0dd38e2b3a1be"
 },
 "nbformat": 3,
 "nbformat_minor": 0,
 "worksheets": [
  {
   "cells": [
    {
     "cell_type": "code",
     "collapsed": false,
     "input": [
      "# project: can you use machine learning to recognize religion?"
     ],
     "language": "python",
     "metadata": {},
     "outputs": []
    },
    {
     "cell_type": "code",
     "collapsed": false,
     "input": [
      "%matplotlib inline"
     ],
     "language": "python",
     "metadata": {},
     "outputs": [],
     "prompt_number": 60
    },
    {
     "cell_type": "code",
     "collapsed": false,
     "input": [
      "import okcupyd\n",
      "import urllib, os\n",
      "import pandas as pd\n",
      "import numpy as np\n",
      "import pylab as pl\n",
      "from PIL import Image\n",
      "from sklearn.decomposition import RandomizedPCA\n",
      "from sklearn.neighbors import KNeighborsClassifier"
     ],
     "language": "python",
     "metadata": {},
     "outputs": [],
     "prompt_number": 23
    },
    {
     "cell_type": "code",
     "collapsed": false,
     "input": [
      "# face-getting work\n",
      "\n",
      "# get the URLs\n",
      "\n",
      "f = open(jfile,\"w\"); g = open(cfile,\"w\")\n",
      "session = okcupyd.Session.login('username', 'password')\n",
      "u = okcupyd.User(session)\n",
      "profiles = u.search(gender = 'female') # just to simplify the data a bit\n",
      "\n",
      "for p in profiles[:250]:\n",
      "    if p.details.religion == None:\n",
      "            continue\n",
      "    if 'Judaism' in p.details.religion:\n",
      "            for photo_info in p.photo_infos:\n",
      "                    f.write(photo_info.jpg_uri)\n",
      "                    f.write(\"\\n\")\n",
      "    if 'Christianity' in p.details.religion:\n",
      "            for photo_info in p.photo_infos:\n",
      "                    g.write(photo_info.jpg_uri)\n",
      "                    g.write(\"\\n\")\n",
      "\n",
      "f.close(); g.close()\n",
      "\n",
      "# get the faces\n",
      "    \n",
      "f = open(jfile,\"r\"); i = 0\n",
      "urls = f.readlines()\n",
      "for u in urls:\n",
      "    urllib.urlretrieve(urls[i], \"jphoto\" + str(i) + \".jpg\")\n",
      "    i += 1\n",
      "f.close()\n",
      "\n",
      "g = open(cfile,\"r\"); i = 0\n",
      "urls = g.readlines()\n",
      "for u in urls:\n",
      "    urllib.urlretrieve(urls[i], \"cphoto\" + str(i) + \".jpg\")\n",
      "    i += 1\n",
      "g.close()\n",
      "\n",
      "# crop the faces\n",
      "    \n",
      "# cmd: SNFaceCrop -d <j-directory> -f *.jpg\n",
      "# cmd: SNFaceCrop -d <c-directory> -f *.jpg\n"
     ],
     "language": "python",
     "metadata": {},
     "outputs": [],
     "prompt_number": 15
    },
    {
     "cell_type": "code",
     "collapsed": false,
     "input": [
      "def img_to_matrix(filename, verbose=False):\n",
      "    \"\"\"\n",
      "    takes a filename and turns it into a numpy array of RGB pixels\n",
      "    \"\"\"\n",
      "    img = Image.open(filename)\n",
      "    img = img.resize((150,150))\n",
      "    img = list(img.getdata())\n",
      "    img = map(list, img)\n",
      "    img = np.array(img)\n",
      "    return img\n",
      " \n",
      "def flatten_image(img):\n",
      "    \"\"\"\n",
      "    takes in an (m, n) numpy array and flattens it \n",
      "    into an array of shape (1, m * n)\n",
      "    \"\"\"\n",
      "    s = img.shape[0] * img.shape[1]\n",
      "    img_wide = img.reshape(1, s)\n",
      "    return img_wide[0]\n"
     ],
     "language": "python",
     "metadata": {},
     "outputs": [],
     "prompt_number": 24
    },
    {
     "cell_type": "code",
     "collapsed": false,
     "input": [
      "# turn image files in numpy arrays so we can analyze them\n",
      "\n",
      "j_images = [j for j in os.listdir(\"C:/Python27/faces/cropper/jpics/cropped_faces\")]\n",
      "c_images = [c for c in os.listdir(\"C:/Python27/faces/cropper/cpics/cropped_faces\")]\n",
      "jdata = []; cdata = []\n",
      "for image in j_images:\n",
      "    img = img_to_matrix(\"C:/Python27/faces/cropper/jpics/cropped_faces/\" + image)\n",
      "    img = flatten_image(img)\n",
      "    jdata.append(img)\n",
      "for image in c_images:\n",
      "    img = img_to_matrix(\"C:/Python27/faces/cropper/cpics/cropped_faces/\" + image)\n",
      "    img = flatten_image(img)\n",
      "    cdata.append(img)\n",
      "jdata = np.array(jdata)\n",
      "cdata = np.array(cdata)"
     ],
     "language": "python",
     "metadata": {},
     "outputs": []
    },
    {
     "cell_type": "code",
     "collapsed": false,
     "input": [
      "# make full data set with labels\n",
      "\n",
      "data= np.concatenate((jdata,cdata))\n",
      "labels = np.concatenate(([\"j\"] * 134,[\"c\"] * 114))"
     ],
     "language": "python",
     "metadata": {},
     "outputs": [],
     "prompt_number": 57
    },
    {
     "cell_type": "code",
     "collapsed": false,
     "input": [
      "# use first 70% of the data as training material, and the rest as test\n",
      "\n",
      "is_train = np.random.uniform(0, 1, len(data)) <= 0.7\n",
      "y = np.where(np.array(labels)==\"j\", 1, 0)\n",
      "train_x, train_y = data[is_train], y[is_train]\n",
      "test_x, test_y = data[is_train==False], y[is_train==False]"
     ],
     "language": "python",
     "metadata": {},
     "outputs": [],
     "prompt_number": 58
    },
    {
     "cell_type": "code",
     "collapsed": false,
     "input": [
      "# randomized PCA (mostly a failure)\n",
      "\n",
      "pca = RandomizedPCA(n_components=2)\n",
      "X = pca.fit_transform(data)\n",
      "df = pd.DataFrame({\"x\": X[:, 0], \"y\": X[:, 1], \"label\":np.where(y==1, \"j\", \"c\")})\n",
      "colors = [\"red\", \"yellow\"]\n",
      "for label, color in zip(df['label'].unique(), colors):\n",
      "    mask = df['label']==label\n",
      "    pl.scatter(df[mask]['x'], df[mask]['y'], c=color, label=label)\n",
      "pl.legend()"
     ],
     "language": "python",
     "metadata": {},
     "outputs": [
      {
       "metadata": {},
       "output_type": "pyout",
       "prompt_number": 73,
       "text": [
        "<matplotlib.legend.Legend at 0x11a793b0>"
       ]
      },
      {
       "metadata": {},
       "output_type": "display_data",
       "png": "[encoded data removed]",
       "text": [
        "<matplotlib.figure.Figure at 0x11a798d0>"
       ]
      }
     ],
     "prompt_number": 73
    },
    {
     "cell_type": "code",
     "collapsed": false,
     "input": [
      "# finishing up, test the model on the remaining images\n",
      "# 60% accuracy\n",
      "# significance? maybe use chi-square to compare groups, and then compare this result to that. for another day...\n",
      "\n",
      "pca = RandomizedPCA()\n",
      "train_x = pca.fit_transform(train_x)\n",
      "test_x = pca.transform(test_x)\n",
      "knn = KNeighborsClassifier()\n",
      "knn.fit(train_x, train_y)\n",
      "\n",
      "pd.crosstab(test_y, knn.predict(test_x), rownames=[\"Actual\"], colnames=[\"Predicted\"])"
     ],
     "language": "python",
     "metadata": {},
     "outputs": [
      {
       "output_type": "stream",
       "stream": "stderr",
       "text": [
        "C:\\Python27\\lib\\site-packages\\sklearn\\neighbors\\classification.py:131: NeighborsWarning: kneighbors: neighbor k+1 and neighbor k have the same distance: results will be dependent on data order.\n",
        "  neigh_dist, neigh_ind = self.kneighbors(X)\n"
       ]
      },
      {
       "html": [
        "<div style=\"max-height:1000px;max-width:1500px;overflow:auto;\">\n",
        "<table border=\"1\" class=\"dataframe\">\n",
        "  <thead>\n",
        "    <tr style=\"text-align: right;\">\n",
        "      <th>Predicted</th>\n",
        "      <th>0</th>\n",
        "      <th>1</th>\n",
        "    </tr>\n",
        "    <tr>\n",
        "      <th>Actual</th>\n",
        "      <th></th>\n",
        "      <th></th>\n",
        "    </tr>\n",
        "  </thead>\n",
        "  <tbody>\n",
        "    <tr>\n",
        "      <th>0</th>\n",
        "      <td> 14</td>\n",
        "      <td> 19</td>\n",
        "    </tr>\n",
        "    <tr>\n",
        "      <th>1</th>\n",
        "      <td>  7</td>\n",
        "      <td> 25</td>\n",
        "    </tr>\n",
        "  </tbody>\n",
        "</table>\n",
        "</div>"
       ],
       "metadata": {},
       "output_type": "pyout",
       "prompt_number": 85,
       "text": [
        "Predicted   0   1\n",
        "Actual           \n",
        "0          14  19\n",
        "1           7  25"
       ]
      }
     ],
     "prompt_number": 85
    },
    {
     "cell_type": "code",
     "collapsed": false,
     "input": [],
     "language": "python",
     "metadata": {},
     "outputs": [],
     "prompt_number": 81
    }
   ],
   "metadata": {}
  }
 ]
}