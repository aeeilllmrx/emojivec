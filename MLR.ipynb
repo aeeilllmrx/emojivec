{
 "metadata": {
  "name": "",
  "signature": "sha256:6e848040e79eb20e2b8b2068b6ba306ecfc03525faf223bd0483c05b20c1ef5a"
 },
 "nbformat": 3,
 "nbformat_minor": 0,
 "worksheets": [
  {
   "cells": [
    {
     "cell_type": "markdown",
     "metadata": {},
     "source": [
      "## Question: Can you use machine learning to recognize religion?\n",
      "\n",
      "Often I\u2019ll get into pointless discussions with my roommate, and a recent one concerned whether or not you could tell someone\u2019s religion just by looking at them.\n",
      "\n",
      "This seemed like a great candidate for an image classification project, so I went to work.\n",
      "\n",
      "The first step was figuring out how to actually get the images. Maybe I wasn't looking hard enough, but I couldn't find a single face database that identified religion, and simply using Google Image was problematic. So I came up with the idea of mining the pictures on OkCupid. As far as I know, profiles on OkCupid are public, and this project doesn't reveal any personal information, but if anyone takes objection to this please let me know.\n",
      "\n",
      "Anyway, there's a great module called okcupyd (what else?), that lets you log in and search profiles for various characteristics. In this case, I just needed to find urls that contain images of self-identified Jews and Christians.\n"
     ]
    },
    {
     "cell_type": "code",
     "collapsed": false,
     "input": [
      "import okcupyd\n",
      "\n",
      "f = open(jfile,\"w\"); g = open(cfile,\"w\")\n",
      "session = okcupyd.Session.login('username', 'password')\n",
      "u = okcupyd.User(session)\n",
      "profiles = u.search(gender = 'female') # just to simplify the data a bit\n",
      "\n",
      "for p in profiles[:250]:\n",
      "    if p.details.religion == None:\n",
      "            continue\n",
      "    if 'Judaism' in p.details.religion:\n",
      "            for photo_info in p.photo_infos:\n",
      "                    f.write(photo_info.jpg_uri)\n",
      "                    f.write(\"\\n\")\n",
      "    if 'Christianity' in p.details.religion:\n",
      "            for photo_info in p.photo_infos:\n",
      "                    g.write(photo_info.jpg_uri)\n",
      "                    g.write(\"\\n\")\n",
      "\n",
      "f.close(); g.close()"
     ],
     "language": "python",
     "metadata": {},
     "outputs": [],
     "prompt_number": 15
    },
    {
     "cell_type": "markdown",
     "metadata": {},
     "source": [
      "Once I got the urls, I extracted the images and saved them as a bunch of jpg files. If you're following along, I'd recommend making a new directory first so you don't have hundreds of files clogging up your current one."
     ]
    },
    {
     "cell_type": "code",
     "collapsed": false,
     "input": [
      "import urllib, os\n",
      "    \n",
      "f = open(jfile,\"r\"); i = 0\n",
      "urls = f.readlines()\n",
      "for u in urls:\n",
      "    urllib.urlretrieve(urls[i], \"jphoto\" + str(i) + \".jpg\")\n",
      "    i += 1\n",
      "f.close()\n",
      "\n",
      "g = open(cfile,\"r\"); i = 0\n",
      "urls = g.readlines()\n",
      "for u in urls:\n",
      "    urllib.urlretrieve(urls[i], \"cphoto\" + str(i) + \".jpg\")\n",
      "    i += 1\n",
      "g.close()"
     ],
     "language": "python",
     "metadata": {},
     "outputs": []
    },
    {
     "cell_type": "markdown",
     "metadata": {},
     "source": [
      "Now came the tricky part. I didn't want random images- the pictures need to be cropped to just faces. Unfortunately, almost every piece of code I could find on this was hopelessly deprecated. All Python solutions seem to be based on the openCV module, but when openCV upgraded all the image recognition functions changed. After hours of trying to adapt old methods and create new ones, I stumbled on a program called SNFaceCrop, which did just what I was looking for from the command line."
     ]
    },
    {
     "cell_type": "code",
     "collapsed": false,
     "input": [
      "# cmd: SNFaceCrop -d <j-directory> -f *.jpg\n",
      "# cmd: SNFaceCrop -d <c-directory> -f *.jpg"
     ],
     "language": "python",
     "metadata": {},
     "outputs": [],
     "prompt_number": 4
    },
    {
     "cell_type": "markdown",
     "metadata": {},
     "source": [
      "Once I had the faces, it was time to analyze them. The first step was to represent all the images in arrays. The PIL library allows you to decompose an image into a matrix of pixel information, and then using numpy you can turn that matrix into an array."
     ]
    },
    {
     "cell_type": "code",
     "collapsed": false,
     "input": [
      "from PIL import Image\n",
      "import numpy as np\n",
      "\n",
      "def make_matrix(filename, verbose=False):\n",
      "\n",
      "    img = Image.open(filename)\n",
      "    img = img.resize((150,150))\n",
      "    img = list(img.getdata())\n",
      "    img = map(list, img)\n",
      "    img = np.array(img)\n",
      "    return img\n",
      " \n",
      "def turn_to_array(img):\n",
      "\n",
      "    s = img.shape[0] * img.shape[1]\n",
      "    img_wide = img.reshape(1, s)\n",
      "    return img_wide[0]\n"
     ],
     "language": "python",
     "metadata": {},
     "outputs": [],
     "prompt_number": 7
    },
    {
     "cell_type": "markdown",
     "metadata": {},
     "source": [
      "With those functions defined, it was time to prepare the images for analysis."
     ]
    },
    {
     "cell_type": "code",
     "collapsed": false,
     "input": [
      "j_images = [j for j in os.listdir(\"C:/Python27/faces/cropper/jpics/cropped_faces\")]\n",
      "c_images = [c for c in os.listdir(\"C:/Python27/faces/cropper/cpics/cropped_faces\")]\n",
      "jdata = []; cdata = []\n",
      "\n",
      "for image in j_images:\n",
      "    img = make_matrix(\"C:/Python27/faces/cropper/jpics/cropped_faces/\" + image)\n",
      "    img = turn_to_array(img)\n",
      "    jdata.append(img)\n",
      "    \n",
      "for image in c_images:\n",
      "    img = make_matrix(\"C:/Python27/faces/cropper/cpics/cropped_faces/\" + image)\n",
      "    img = turn_to_array(img)\n",
      "    cdata.append(img)\n",
      "    \n",
      "jdata = np.array(jdata)\n",
      "cdata = np.array(cdata)\n",
      "\n",
      "# make full data set with labels\n",
      "\n",
      "data= np.concatenate((jdata,cdata))\n",
      "labels = np.concatenate(([\"j\"] * len(jdata),[\"c\"] * len(cdata)))"
     ],
     "language": "python",
     "metadata": {},
     "outputs": [],
     "prompt_number": 17
    },
    {
     "cell_type": "markdown",
     "metadata": {},
     "source": [
      "I used 3/4 of the data as training images, and saved the rest for testing."
     ]
    },
    {
     "cell_type": "code",
     "collapsed": false,
     "input": [
      "training = np.random.uniform(0, 1, len(data)) <= 0.75\n",
      "j = np.where(np.array(labels)==\"j\", 1, 0)\n",
      "\n",
      "alltrain, jtrain = data[training], j[training]\n",
      "alltest, jtest = data[training==False], j[training==False]"
     ],
     "language": "python",
     "metadata": {},
     "outputs": [],
     "prompt_number": 39
    },
    {
     "cell_type": "markdown",
     "metadata": {},
     "source": [
      "Principal component analysis, or PCA, is a method of reducing the dimensionality of the data, so you can find the features that best differentiate each group. sklearn has a module called RandomizedPCA that carries this out, and so I modified some code to make a scatterplot of the two image classes.\n",
      "\n",
      "Unfortunately, there doesn't seem to be any clear distinction between the features of these classes, but it's nice to see some color anyway.\n"
     ]
    },
    {
     "cell_type": "code",
     "collapsed": false,
     "input": [
      "%matplotlib inline\n",
      "import warnings\n",
      "warnings.filterwarnings('ignore')"
     ],
     "language": "python",
     "metadata": {},
     "outputs": [],
     "prompt_number": 42
    },
    {
     "cell_type": "code",
     "collapsed": false,
     "input": [
      "from sklearn.decomposition import RandomizedPCA\n",
      "import pandas as pd\n",
      "import pylab as pl\n",
      "\n",
      "pca = RandomizedPCA(n_components=2)\n",
      "X = pca.fit_transform(data)\n",
      "\n",
      "df = pd.DataFrame({\"x\": X[:, 0], \"y\": X[:, 1], \"label\": np.where(j==1, \"j\", \"c\")})\n",
      "colors = [\"blue\", \"red\"]\n",
      "for label, color in zip(df['label'].unique(), colors):\n",
      "    mask = df['label']==label\n",
      "    pl.scatter(df[mask]['x'], df[mask]['y'], c=color, label=label)\n",
      "pl.legend()"
     ],
     "language": "python",
     "metadata": {},
     "outputs": [
      {
       "metadata": {},
       "output_type": "pyout",
       "prompt_number": 40,
       "text": [
        "<matplotlib.legend.Legend at 0xbc4c070>"
       ]
      },
      {
       "metadata": {},
       "output_type": "display_data",
       "png": "[encoded data removed]",
       "text": [
        "<matplotlib.figure.Figure at 0xbc4ceb0>"
       ]
      }
     ],
     "prompt_number": 40
    },
    {
     "cell_type": "markdown",
     "metadata": {},
     "source": [
      "Finally, I tested this (not very good) model on the remaining images using a K-nearest-neighbors classifier."
     ]
    },
    {
     "cell_type": "code",
     "collapsed": false,
     "input": [
      "from sklearn.neighbors import KNeighborsClassifier\n",
      "\n",
      "pca = RandomizedPCA(n_components=5)\n",
      "alltrain = pca.fit_transform(alltrain)\n",
      "alltest = pca.transform(alltest)\n",
      "knn = KNeighborsClassifier()\n",
      "knn.fit(alltrain, jtrain)\n",
      "\n",
      "pd.crosstab(jtest, knn.predict(alltest), rownames=[\"Actual\"], colnames=[\"Predicted\"])"
     ],
     "language": "python",
     "metadata": {},
     "outputs": [
      {
       "html": [
        "<div style=\"max-height:1000px;max-width:1500px;overflow:auto;\">\n",
        "<table border=\"1\" class=\"dataframe\">\n",
        "  <thead>\n",
        "    <tr style=\"text-align: right;\">\n",
        "      <th>Predicted</th>\n",
        "      <th>0</th>\n",
        "      <th>1</th>\n",
        "    </tr>\n",
        "    <tr>\n",
        "      <th>Actual</th>\n",
        "      <th></th>\n",
        "      <th></th>\n",
        "    </tr>\n",
        "  </thead>\n",
        "  <tbody>\n",
        "    <tr>\n",
        "      <th>0</th>\n",
        "      <td> 18</td>\n",
        "      <td> 13</td>\n",
        "    </tr>\n",
        "    <tr>\n",
        "      <th>1</th>\n",
        "      <td> 14</td>\n",
        "      <td> 22</td>\n",
        "    </tr>\n",
        "  </tbody>\n",
        "</table>\n",
        "</div>"
       ],
       "metadata": {},
       "output_type": "pyout",
       "prompt_number": 43,
       "text": [
        "Predicted   0   1\n",
        "Actual           \n",
        "0          18  13\n",
        "1          14  22"
       ]
      }
     ],
     "prompt_number": 43
    },
    {
     "cell_type": "markdown",
     "metadata": {},
     "source": [
      "With 40/67 right, this model got the test results right about 60% of the time. Sadly, this isn't statistically significant at even p=0.1.\n",
      "\n",
      "Even if the model didn't work, it was fun learning about these different methods. Next time, I'll be sure to get more data, find more features, and try out different models."
     ]
    },
    {
     "cell_type": "code",
     "collapsed": false,
     "input": [
      "import scipy.stats\n",
      "\n",
      "scipy.stats.binom_test(40, 67, p=0.5)"
     ],
     "language": "python",
     "metadata": {},
     "outputs": [
      {
       "metadata": {},
       "output_type": "pyout",
       "prompt_number": 47,
       "text": [
        "0.14207137942637585"
       ]
      }
     ],
     "prompt_number": 47
    }
   ],
   "metadata": {}
  }
 ]
}