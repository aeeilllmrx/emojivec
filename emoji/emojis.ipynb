{
 "cells": [
  {
   "cell_type": "markdown",
   "metadata": {},
   "source": [
    "emojis and twitter"
   ]
  },
  {
   "cell_type": "code",
   "execution_count": 71,
   "metadata": {
    "collapsed": false
   },
   "outputs": [],
   "source": [
    "import twitter"
   ]
  },
  {
   "cell_type": "code",
   "execution_count": 78,
   "metadata": {
    "collapsed": false
   },
   "outputs": [],
   "source": [
    "# set these\n",
    "\n",
    "api = twitter.Api(consumer_key=con_key,\n",
    "consumer_secret=con_secret,\n",
    "access_token_key=token_key,\n",
    "access_token_secret=token_secret)"
   ]
  },
  {
   "cell_type": "code",
   "execution_count": 223,
   "metadata": {
    "collapsed": true
   },
   "outputs": [],
   "source": [
    "users = api.GetFriends()\n",
    "users = [u.name for u in users]\n",
    "\n",
    "tweets = []\n",
    "for u in users:\n",
    "    posts = api.GetUserTimeline(screen_name=user)\n",
    "    tweets.extend(posts)"
   ]
  },
  {
   "cell_type": "code",
   "execution_count": 224,
   "metadata": {
    "collapsed": false
   },
   "outputs": [
    {
     "data": {
      "text/plain": [
       "340"
      ]
     },
     "execution_count": 224,
     "metadata": {},
     "output_type": "execute_result"
    }
   ],
   "source": [
    "len(tweets)"
   ]
  },
  {
   "cell_type": "markdown",
   "metadata": {},
   "source": [
    "so we have a tiny amount of tweets, can we learn anything?"
   ]
  },
  {
   "cell_type": "code",
   "execution_count": 225,
   "metadata": {
    "collapsed": false
   },
   "outputs": [],
   "source": [
    "tweets = [t.text for t in tweets]"
   ]
  },
  {
   "cell_type": "code",
   "execution_count": 242,
   "metadata": {
    "collapsed": false
   },
   "outputs": [
    {
     "data": {
      "text/plain": [
       "🔪    17\n",
       "😈    17\n",
       "🐥    17\n",
       "🙌    17\n",
       "😃    17\n",
       "😡    17\n",
       "🐧    17\n",
       "🎧    17\n",
       "📅    17\n",
       "🌻    17\n",
       "🖖    17\n",
       "dtype: int64"
      ]
     },
     "execution_count": 242,
     "metadata": {},
     "output_type": "execute_result"
    }
   ],
   "source": [
    "import re  \n",
    "try:  \n",
    "    # UCS-4\n",
    "    e = re.compile(u'[\\U00010000-\\U0010ffff]')\n",
    "except re.error:  \n",
    "    # UCS-2\n",
    "    e = re.compile(u'[\\uD800-\\uDBFF][\\uDC00-\\uDFFF]')\n",
    "\n",
    "emojis = []  \n",
    "for x in tweets:  \n",
    "    match  = e.search(x)\n",
    "    if match:\n",
    "        emojis.append(match.group())\n",
    "\n",
    "dfe =  pd.DataFrame(emojis,columns=['text'])  \n",
    "pd.Series(' '.join(dfe['text']).lower().split()).value_counts()[:25]  "
   ]
  },
  {
   "cell_type": "code",
   "execution_count": 337,
   "metadata": {
    "collapsed": false
   },
   "outputs": [],
   "source": [
    "wt = [x.split() for x in tweets]\n",
    "\n",
    "import logging\n",
    "logging.basicConfig(format='%(asctime)s : %(levelname)s : %(message)s',\n",
    "                    level=logging.INFO)\n",
    "from gensim.models import word2vec\n",
    "# Set values for various parameters\n",
    "num_features = 400    # Word vector dimensionality  \n",
    "min_word_count = 5   # Minimum word count  \n",
    "num_workers = 4       # Number of threads to run in parallel  \n",
    "context = 10          # Context window size  \n",
    "downsampling = 1e-3   # Downsample setting for frequent words\n",
    "\n",
    "model = word2vec.Word2Vec(wt, workers=num_workers,  \n",
    "            size=num_features, min_count = min_word_count,\n",
    "            window = context, sample = downsampling)\n",
    "\n",
    "model.init_sims(replace=True)  "
   ]
  },
  {
   "cell_type": "markdown",
   "metadata": {},
   "source": [
    "the model identifies emoji correctly!"
   ]
  },
  {
   "cell_type": "code",
   "execution_count": 302,
   "metadata": {
    "collapsed": false
   },
   "outputs": [
    {
     "name": "stdout",
     "output_type": "stream",
     "text": [
      "📅\n"
     ]
    }
   ],
   "source": [
    "print u'\\U0001f4c5'\n"
   ]
  },
  {
   "cell_type": "code",
   "execution_count": 303,
   "metadata": {
    "collapsed": false
   },
   "outputs": [
    {
     "data": {
      "text/plain": [
       "[(u'calendar', 0.993647038936615),\n",
       " (u'Much', 0.9935946464538574),\n",
       " (u'confusion', 0.9879370927810669),\n",
       " (u'July', 0.9805886745452881),\n",
       " (u'last', 0.9793851971626282)]"
      ]
     },
     "execution_count": 303,
     "metadata": {},
     "output_type": "execute_result"
    }
   ],
   "source": [
    "model.most_similar(u'\\U0001f4c5',topn=5)  "
   ]
  },
  {
   "cell_type": "code",
   "execution_count": 304,
   "metadata": {
    "collapsed": false
   },
   "outputs": [
    {
     "data": {
      "text/plain": [
       "[(u'\\U0001f4c5', 0.993647038936615),\n",
       " (u'Much', 0.9849915504455566),\n",
       " (u'confusion', 0.9778301119804382),\n",
       " (u'RT', 0.968165397644043),\n",
       " (u'July', 0.9656909704208374)]"
      ]
     },
     "execution_count": 304,
     "metadata": {},
     "output_type": "execute_result"
    }
   ],
   "source": [
    "model.most_similar('calendar',topn=5)"
   ]
  },
  {
   "cell_type": "code",
   "execution_count": 305,
   "metadata": {
    "collapsed": false
   },
   "outputs": [
    {
     "data": {
      "text/plain": [
       "0.99364693997127163"
      ]
     },
     "execution_count": 305,
     "metadata": {},
     "output_type": "execute_result"
    }
   ],
   "source": [
    "model.similarity(u'\\U0001f4c5', 'calendar')"
   ]
  },
  {
   "cell_type": "code",
   "execution_count": 336,
   "metadata": {
    "collapsed": false
   },
   "outputs": [
    {
     "name": "stdout",
     "output_type": "stream",
     "text": [
      "🐥 🐘\n",
      "🐥 🐫\n",
      "🐥 🐦\n",
      "🖖 🐞\n",
      "🖖 🐜\n",
      "🖖 🗻\n",
      "need more data\n",
      "📅 calendar\n",
      "📅 Much\n",
      "📅 confusion\n",
      "🎧 http://t.co/e1FQqu4sb1\n",
      "🎧 Happy\n",
      "🎧 🐢\n",
      "🐧 a\n",
      "😡 THE\n",
      "😡 emoji\n",
      "😡 only\n",
      "need more data\n",
      "🙌 day…ever?\n",
      "🙌 Greatest\n",
      "🙌 https://t.co/1mrqYuDMcv\n",
      "need more data\n",
      "🔪 1\n",
      "🔪 tsunami;\n",
      "🔪 tsunamis\n"
     ]
    }
   ],
   "source": [
    "s = list(set(emojis))\n",
    "for i in s:\n",
    "    try:\n",
    "        candidates = model.most_similar(i,topn=3)\n",
    "        for j in candidates:\n",
    "            try:\n",
    "                if model.similarity(i, j[0]) > 0.8:\n",
    "                    print i,j[0]\n",
    "            except:\n",
    "                print \"?\"\n",
    "                continue\n",
    "    except KeyError:\n",
    "        print \"need more data\""
   ]
  }
 ],
 "metadata": {
  "kernelspec": {
   "display_name": "Python 2",
   "language": "python",
   "name": "python2"
  },
  "language_info": {
   "codemirror_mode": {
    "name": "ipython",
    "version": 2
   },
   "file_extension": ".py",
   "mimetype": "text/x-python",
   "name": "python",
   "nbconvert_exporter": "python",
   "pygments_lexer": "ipython2",
   "version": "2.7.6"
  }
 },
 "nbformat": 4,
 "nbformat_minor": 0
}
